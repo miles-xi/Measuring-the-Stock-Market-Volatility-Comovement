{
 "cells": [
  {
   "cell_type": "code",
   "execution_count": 2,
   "metadata": {},
   "outputs": [
    {
     "name": "stderr",
     "output_type": "stream",
     "text": [
      "/Users/Zjxi/Library/Python/3.9/lib/python/site-packages/urllib3/__init__.py:34: NotOpenSSLWarning: urllib3 v2 only supports OpenSSL 1.1.1+, currently the 'ssl' module is compiled with 'LibreSSL 2.8.3'. See: https://github.com/urllib3/urllib3/issues/3020\n",
      "  warnings.warn(\n"
     ]
    }
   ],
   "source": [
    "import pandas as pd\n",
    "from alpha_vantage.timeseries import TimeSeries\n",
    "key = 'RV2SIKGG44RG7K9C'\n",
    "ts = TimeSeries(key=key, output_format='json')"
   ]
  },
  {
   "cell_type": "code",
   "execution_count": 5,
   "metadata": {},
   "outputs": [],
   "source": [
    "tickers = [\n",
    "    'XIC.TO', 'XST.TO', 'ZIN.TO', 'XFN.TO', \n",
    "    'XMA.TO', 'XUT.TO', 'XIT.TO', 'XEG.TO',\n",
    "    'XRE.TO'\n",
    "    ]\n",
    "combined_data = pd.DataFrame()\n",
    "\n",
    "# loop through each tick and fetch the daily data\n",
    "# outputsize='full': returns the full-length time series \n",
    "# of 20+ years of historical data\n",
    "for ticker in tickers:\n",
    "    data, metadata = ts.get_daily(symbol=ticker,\n",
    "                                  outputsize='full')\n",
    "\n",
    "    # convert JSON to DataFrame\n",
    "    df = pd.DataFrame.from_dict(data=data, orient='index')\n",
    "    df.index.name = 'Date'\n",
    "    df.reset_index(inplace = True)\n",
    "\n",
    "    # keep only the date and the closing price\n",
    "    df = df[['Date', '4. close']]\n",
    "    df.columns = ['Date', ticker]\n",
    "\n",
    "    # set the 'Date' column as the index\n",
    "    df['Date'] = pd.to_datetime(df['Date'])\n",
    "    df.set_index('Date', inplace=True)\n",
    "\n",
    "    # merge the data into the combined_data\n",
    "    # how='outer': sql-like outer join, keep all the rows\n",
    "    combined_data = pd.merge(combined_data, df, \n",
    "                             how='outer', left_index=True, \n",
    "                             right_index=True)\n",
    "    "
   ]
  },
  {
   "cell_type": "code",
   "execution_count": 6,
   "metadata": {},
   "outputs": [],
   "source": [
    "combined_data.to_csv('price.csv', index=True)"
   ]
  }
 ],
 "metadata": {
  "kernelspec": {
   "display_name": "Python 3",
   "language": "python",
   "name": "python3"
  },
  "language_info": {
   "codemirror_mode": {
    "name": "ipython",
    "version": 3
   },
   "file_extension": ".py",
   "mimetype": "text/x-python",
   "name": "python",
   "nbconvert_exporter": "python",
   "pygments_lexer": "ipython3",
   "version": "3.9.6"
  }
 },
 "nbformat": 4,
 "nbformat_minor": 2
}
